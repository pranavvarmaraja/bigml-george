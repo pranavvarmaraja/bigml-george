{
 "cells": [
  {
   "cell_type": "code",
   "execution_count": 1,
   "metadata": {},
   "outputs": [
    {
     "name": "stdout",
     "output_type": "stream",
     "text": [
      "Requirement already satisfied: spuco in ./venv/lib/python3.10/site-packages (1.0.3)\n",
      "Requirement already satisfied: matplotlib>=3.7.1 in ./venv/lib/python3.10/site-packages (from spuco) (3.8.0)\n",
      "Requirement already satisfied: numpy>=1.23.5 in ./venv/lib/python3.10/site-packages (from spuco) (1.26.0)\n",
      "Requirement already satisfied: setuptools>=61.0 in ./venv/lib/python3.10/site-packages (from spuco) (68.1.2)\n",
      "Requirement already satisfied: torch>=2.0.0 in ./venv/lib/python3.10/site-packages (from spuco) (2.0.1)\n",
      "Requirement already satisfied: torchvision>=0.15.1 in ./venv/lib/python3.10/site-packages (from spuco) (0.15.2)\n",
      "Requirement already satisfied: tqdm>=4.65.0 in ./venv/lib/python3.10/site-packages (from spuco) (4.66.1)\n",
      "Requirement already satisfied: scikit-learn>=0.20.0 in ./venv/lib/python3.10/site-packages (from spuco) (1.3.1)\n",
      "Requirement already satisfied: wilds>=2.0.0 in ./venv/lib/python3.10/site-packages (from spuco) (2.0.0)\n",
      "Requirement already satisfied: transformers>=3.5.0 in ./venv/lib/python3.10/site-packages (from spuco) (4.33.3)\n",
      "Requirement already satisfied: contourpy>=1.0.1 in ./venv/lib/python3.10/site-packages (from matplotlib>=3.7.1->spuco) (1.1.1)\n",
      "Requirement already satisfied: cycler>=0.10 in ./venv/lib/python3.10/site-packages (from matplotlib>=3.7.1->spuco) (0.12.0)\n",
      "Requirement already satisfied: fonttools>=4.22.0 in ./venv/lib/python3.10/site-packages (from matplotlib>=3.7.1->spuco) (4.42.1)\n",
      "Requirement already satisfied: kiwisolver>=1.0.1 in ./venv/lib/python3.10/site-packages (from matplotlib>=3.7.1->spuco) (1.4.5)\n",
      "Requirement already satisfied: packaging>=20.0 in ./venv/lib/python3.10/site-packages (from matplotlib>=3.7.1->spuco) (23.1)\n",
      "Requirement already satisfied: pillow>=6.2.0 in ./venv/lib/python3.10/site-packages (from matplotlib>=3.7.1->spuco) (10.0.1)\n",
      "Requirement already satisfied: pyparsing>=2.3.1 in ./venv/lib/python3.10/site-packages (from matplotlib>=3.7.1->spuco) (3.1.1)\n",
      "Requirement already satisfied: python-dateutil>=2.7 in ./venv/lib/python3.10/site-packages (from matplotlib>=3.7.1->spuco) (2.8.2)\n",
      "Requirement already satisfied: scipy>=1.5.0 in ./venv/lib/python3.10/site-packages (from scikit-learn>=0.20.0->spuco) (1.11.3)\n",
      "Requirement already satisfied: joblib>=1.1.1 in ./venv/lib/python3.10/site-packages (from scikit-learn>=0.20.0->spuco) (1.3.2)\n",
      "Requirement already satisfied: threadpoolctl>=2.0.0 in ./venv/lib/python3.10/site-packages (from scikit-learn>=0.20.0->spuco) (3.2.0)\n",
      "Requirement already satisfied: filelock in ./venv/lib/python3.10/site-packages (from torch>=2.0.0->spuco) (3.12.4)\n",
      "Requirement already satisfied: typing-extensions in ./venv/lib/python3.10/site-packages (from torch>=2.0.0->spuco) (4.8.0)\n",
      "Requirement already satisfied: sympy in ./venv/lib/python3.10/site-packages (from torch>=2.0.0->spuco) (1.12)\n",
      "Requirement already satisfied: networkx in ./venv/lib/python3.10/site-packages (from torch>=2.0.0->spuco) (3.1)\n",
      "Requirement already satisfied: jinja2 in ./venv/lib/python3.10/site-packages (from torch>=2.0.0->spuco) (3.1.2)\n",
      "Requirement already satisfied: requests in ./venv/lib/python3.10/site-packages (from torchvision>=0.15.1->spuco) (2.31.0)\n",
      "Requirement already satisfied: huggingface-hub<1.0,>=0.15.1 in ./venv/lib/python3.10/site-packages (from transformers>=3.5.0->spuco) (0.17.3)\n",
      "Requirement already satisfied: pyyaml>=5.1 in ./venv/lib/python3.10/site-packages (from transformers>=3.5.0->spuco) (6.0.1)\n",
      "Requirement already satisfied: regex!=2019.12.17 in ./venv/lib/python3.10/site-packages (from transformers>=3.5.0->spuco) (2023.8.8)\n",
      "Requirement already satisfied: tokenizers!=0.11.3,<0.14,>=0.11.1 in ./venv/lib/python3.10/site-packages (from transformers>=3.5.0->spuco) (0.13.3)\n",
      "Requirement already satisfied: safetensors>=0.3.1 in ./venv/lib/python3.10/site-packages (from transformers>=3.5.0->spuco) (0.3.3)\n",
      "Requirement already satisfied: ogb>=1.2.6 in ./venv/lib/python3.10/site-packages (from wilds>=2.0.0->spuco) (1.3.6)\n",
      "Requirement already satisfied: outdated>=0.2.0 in ./venv/lib/python3.10/site-packages (from wilds>=2.0.0->spuco) (0.2.2)\n",
      "Requirement already satisfied: pandas>=1.1.0 in ./venv/lib/python3.10/site-packages (from wilds>=2.0.0->spuco) (2.1.1)\n",
      "Requirement already satisfied: pytz>=2020.4 in ./venv/lib/python3.10/site-packages (from wilds>=2.0.0->spuco) (2023.3.post1)\n",
      "Requirement already satisfied: fsspec in ./venv/lib/python3.10/site-packages (from huggingface-hub<1.0,>=0.15.1->transformers>=3.5.0->spuco) (2023.9.2)\n",
      "Requirement already satisfied: six>=1.12.0 in ./venv/lib/python3.10/site-packages (from ogb>=1.2.6->wilds>=2.0.0->spuco) (1.16.0)\n",
      "Requirement already satisfied: urllib3>=1.24.0 in ./venv/lib/python3.10/site-packages (from ogb>=1.2.6->wilds>=2.0.0->spuco) (2.0.5)\n",
      "Requirement already satisfied: littleutils in ./venv/lib/python3.10/site-packages (from outdated>=0.2.0->wilds>=2.0.0->spuco) (0.2.2)\n",
      "Requirement already satisfied: tzdata>=2022.1 in ./venv/lib/python3.10/site-packages (from pandas>=1.1.0->wilds>=2.0.0->spuco) (2023.3)\n",
      "Requirement already satisfied: MarkupSafe>=2.0 in ./venv/lib/python3.10/site-packages (from jinja2->torch>=2.0.0->spuco) (2.1.3)\n",
      "Requirement already satisfied: charset-normalizer<4,>=2 in ./venv/lib/python3.10/site-packages (from requests->torchvision>=0.15.1->spuco) (3.2.0)\n",
      "Requirement already satisfied: idna<4,>=2.5 in ./venv/lib/python3.10/site-packages (from requests->torchvision>=0.15.1->spuco) (3.4)\n",
      "Requirement already satisfied: certifi>=2017.4.17 in ./venv/lib/python3.10/site-packages (from requests->torchvision>=0.15.1->spuco) (2023.7.22)\n",
      "Requirement already satisfied: mpmath>=0.19 in ./venv/lib/python3.10/site-packages (from sympy->torch>=2.0.0->spuco) (1.3.0)\n",
      "Note: you may need to restart the kernel to use updated packages.\n"
     ]
    }
   ],
   "source": [
    "%pip install spuco"
   ]
  },
  {
   "cell_type": "code",
   "execution_count": 2,
   "metadata": {},
   "outputs": [],
   "source": [
    "import torch\n",
    "# set torch device to use metal\n",
    "# set to cuda if needed\n",
    "DEVICE = torch.device(\"mps\")"
   ]
  },
  {
   "cell_type": "code",
   "execution_count": 3,
   "metadata": {},
   "outputs": [],
   "source": [
    "# initialize seed\n",
    "from spuco.utils import set_seed\n",
    "set_seed(0)"
   ]
  },
  {
   "cell_type": "code",
   "execution_count": 4,
   "metadata": {},
   "outputs": [
    {
     "name": "stderr",
     "output_type": "stream",
     "text": [
      "100%|██████████| 11996/11996 [00:00<00:00, 30666.43it/s]\n"
     ]
    }
   ],
   "source": [
    "# -------------------------\n",
    "# STEP 1: Train with ERM\n",
    "# -------------------------\n",
    "\n",
    "from spuco.datasets import SpuCoMNIST, SpuriousFeatureDifficulty\n",
    "\n",
    "# MNIST classes and spurious feature difficulty setting\n",
    "classes = [[0,1], [2,3], [4,5], [6,7], [8,9]]\n",
    "difficulty = SpuriousFeatureDifficulty.MAGNITUDE_LARGE\n",
    "\n",
    "# initialize validation set from SpuCoMNIST\n",
    "valset = SpuCoMNIST(\n",
    "    root=\"data/mnist/\",\n",
    "    spurious_feature_difficulty=difficulty,\n",
    "    classes = classes,\n",
    "    split=\"val\",\n",
    "    download=True\n",
    ")\n",
    "valset.initialize()"
   ]
  },
  {
   "cell_type": "code",
   "execution_count": 5,
   "metadata": {},
   "outputs": [
    {
     "name": "stderr",
     "output_type": "stream",
     "text": [
      "100%|██████████| 48004/48004 [00:01<00:00, 34880.39it/s]\n",
      "100%|██████████| 10000/10000 [00:00<00:00, 33976.14it/s]\n"
     ]
    }
   ],
   "source": [
    "from spuco.robust_train import ERM\n",
    "import torchvision.transforms as T\n",
    "\n",
    "# initialize training set from SpuCoMNIST\n",
    "trainset = SpuCoMNIST(\n",
    "    root=\"data/mnist/\",\n",
    "    spurious_feature_difficulty=difficulty,\n",
    "    spurious_correlation_strength=0.995,\n",
    "    classes = classes,\n",
    "    split=\"train\",\n",
    "    download=True\n",
    ")\n",
    "trainset.initialize()\n",
    "\n",
    "\n",
    "# initialize testing set from SpuCoMNIST\n",
    "testset = SpuCoMNIST(\n",
    "    root=\"data/mnist/\",\n",
    "    spurious_feature_difficulty=difficulty,\n",
    "    classes = classes,\n",
    "    split=\"test\",\n",
    "    download=True\n",
    ")\n",
    "testset.initialize()"
   ]
  },
  {
   "cell_type": "code",
   "execution_count": 6,
   "metadata": {},
   "outputs": [
    {
     "data": {
      "image/jpeg": "[encoded data removed]",
      "image/png": "[encoded data removed]",
      "text/plain": [
       "<PIL.Image.Image image mode=RGB size=28x28>"
      ]
     },
     "execution_count": 6,
     "metadata": {},
     "output_type": "execute_result"
    }
   ],
   "source": [
    "# view a example image from training set\n",
    "# after resizing to conventional 28,28\n",
    "T.ToPILImage()(trainset[0][0]).resize((28,28))"
   ]
  },
  {
   "cell_type": "code",
   "execution_count": 7,
   "metadata": {},
   "outputs": [
    {
     "data": {
      "text/plain": [
       "torch.Size([3, 28, 28])"
      ]
     },
     "execution_count": 7,
     "metadata": {},
     "output_type": "execute_result"
    }
   ],
   "source": [
    "# verify that images are 28x28 with 3 color channels\n",
    "# expect [3,28,28]\n",
    "trainset[0][0].shape"
   ]
  },
  {
   "cell_type": "code",
   "execution_count": 8,
   "metadata": {},
   "outputs": [],
   "source": [
    "from spuco.models import model_factory\n",
    "model = model_factory(\"lenet\", trainset[0][0].shape, trainset.num_classes).to(DEVICE)\n"
   ]
  },
  {
   "cell_type": "code",
   "execution_count": 9,
   "metadata": {},
   "outputs": [],
   "source": [
    "from torch.optim import SGD\n",
    "\n",
    "# NOTES: noticed some issue with dump pickler when using multiple workers\n",
    "# for DataLoaders in both ERM and Evaluator classes\n",
    "\n",
    "# not completely sure the cause (why mp pickling was broken on my system) \n",
    "# setting num_workers=0 rectified the issue, with slightly slower data loading\n",
    "erm = ERM(\n",
    "    model=model,\n",
    "    num_epochs=1,\n",
    "    trainset=trainset,\n",
    "    batch_size=64,\n",
    "    optimizer = SGD(model.parameters(), lr=1e-2, momentum=0.9, nesterov=True),\n",
    "    device=DEVICE,\n",
    "    verbose=True,\n",
    ")"
   ]
  },
  {
   "cell_type": "code",
   "execution_count": 10,
   "metadata": {},
   "outputs": [
    {
     "name": "stderr",
     "output_type": "stream",
     "text": [
      "Epoch 0: 100%|██████████| 751/751 [00:05<00:00, 129.09batch/s, accuracy=100.0%, loss=0.011]   \n"
     ]
    }
   ],
   "source": [
    "erm.train()"
   ]
  },
  {
   "cell_type": "code",
   "execution_count": 11,
   "metadata": {},
   "outputs": [
    {
     "name": "stderr",
     "output_type": "stream",
     "text": [
      "Evaluating group-wise accuracy:  20%|██        | 5/25 [00:00<00:00, 44.53it/s]"
     ]
    },
    {
     "name": "stdout",
     "output_type": "stream",
     "text": [
      "Group (0, 0) Accuracy: 100.0\n",
      "Group (0, 1) Accuracy: 0.0\n",
      "Group (0, 2) Accuracy: 0.0\n",
      "Group (0, 3) Accuracy: 0.0\n",
      "Group (0, 4) Accuracy: 0.0\n",
      "Group (1, 0) Accuracy: 0.0\n",
      "Group (1, 1) Accuracy: 100.0\n",
      "Group (1, 2) Accuracy: 0.0\n",
      "Group (1, 3) Accuracy: 0.0\n"
     ]
    },
    {
     "name": "stderr",
     "output_type": "stream",
     "text": [
      "Evaluating group-wise accuracy:  60%|██████    | 15/25 [00:00<00:00, 40.37it/s]"
     ]
    },
    {
     "name": "stdout",
     "output_type": "stream",
     "text": [
      "Group (1, 4) Accuracy: 0.0\n",
      "Group (2, 0) Accuracy: 0.0\n",
      "Group (2, 1) Accuracy: 0.0\n",
      "Group (2, 2) Accuracy: 100.0\n",
      "Group (2, 3) Accuracy: 0.0\n",
      "Group (2, 4) Accuracy: 0.0\n",
      "Group (3, 0) Accuracy: 0.0\n"
     ]
    },
    {
     "name": "stderr",
     "output_type": "stream",
     "text": [
      "Evaluating group-wise accuracy: 100%|██████████| 25/25 [00:00<00:00, 40.78it/s]"
     ]
    },
    {
     "name": "stdout",
     "output_type": "stream",
     "text": [
      "Group (3, 1) Accuracy: 0.0\n",
      "Group (3, 2) Accuracy: 0.0\n",
      "Group (3, 3) Accuracy: 100.0\n",
      "Group (3, 4) Accuracy: 0.0\n",
      "Group (4, 0) Accuracy: 0.0\n",
      "Group (4, 1) Accuracy: 0.0\n",
      "Group (4, 2) Accuracy: 0.0\n",
      "Group (4, 3) Accuracy: 0.0\n",
      "Group (4, 4) Accuracy: 100.0\n"
     ]
    },
    {
     "name": "stderr",
     "output_type": "stream",
     "text": [
      "\n"
     ]
    },
    {
     "data": {
      "text/plain": [
       "{(0, 0): 100.0,\n",
       " (0, 1): 0.0,\n",
       " (0, 2): 0.0,\n",
       " (0, 3): 0.0,\n",
       " (0, 4): 0.0,\n",
       " (1, 0): 0.0,\n",
       " (1, 1): 100.0,\n",
       " (1, 2): 0.0,\n",
       " (1, 3): 0.0,\n",
       " (1, 4): 0.0,\n",
       " (2, 0): 0.0,\n",
       " (2, 1): 0.0,\n",
       " (2, 2): 100.0,\n",
       " (2, 3): 0.0,\n",
       " (2, 4): 0.0,\n",
       " (3, 0): 0.0,\n",
       " (3, 1): 0.0,\n",
       " (3, 2): 0.0,\n",
       " (3, 3): 100.0,\n",
       " (3, 4): 0.0,\n",
       " (4, 0): 0.0,\n",
       " (4, 1): 0.0,\n",
       " (4, 2): 0.0,\n",
       " (4, 3): 0.0,\n",
       " (4, 4): 100.0}"
      ]
     },
     "execution_count": 11,
     "metadata": {},
     "output_type": "execute_result"
    }
   ],
   "source": [
    "# robust accuracy eval\n",
    "\n",
    "from spuco.evaluate import Evaluator\n",
    "\n",
    "evaluator = Evaluator(\n",
    "    testset=testset,\n",
    "    group_partition=testset.group_partition,\n",
    "    group_weights=trainset.group_weights,\n",
    "    batch_size=64,\n",
    "    model=model,\n",
    "    device=DEVICE,\n",
    "    verbose=True\n",
    ")\n",
    "evaluator.evaluate()"
   ]
  },
  {
   "cell_type": "code",
   "execution_count": 12,
   "metadata": {},
   "outputs": [
    {
     "data": {
      "text/plain": [
       "((0, 1), 0.0)"
      ]
     },
     "execution_count": 12,
     "metadata": {},
     "output_type": "execute_result"
    }
   ],
   "source": [
    "evaluator.worst_group_accuracy"
   ]
  },
  {
   "cell_type": "code",
   "execution_count": 13,
   "metadata": {},
   "outputs": [
    {
     "data": {
      "text/plain": [
       "99.49379218398467"
      ]
     },
     "execution_count": 13,
     "metadata": {},
     "output_type": "execute_result"
    }
   ],
   "source": [
    "evaluator.average_accuracy"
   ]
  },
  {
   "cell_type": "code",
   "execution_count": 14,
   "metadata": {},
   "outputs": [
    {
     "name": "stderr",
     "output_type": "stream",
     "text": [
      "Getting Trainset Outputs: 100%|██████████| 751/751 [00:01<00:00, 633.43batch/s]\n",
      "Clustering class-wise: 100%|██████████| 5/5 [00:00<00:00, 11.77it/s]\n"
     ]
    }
   ],
   "source": [
    "# we observe that although average accuracy over all groups is very high\n",
    "# we see that within subgroups that accuracy is as low as 0\n",
    "\n",
    "# --------------------------------------\n",
    "# STEP 2: Cluster inputs into sublabels\n",
    "# --------------------------------------\n",
    "from spuco.group_inference import Cluster, ClusterAlg\n",
    "\n",
    "logits = erm.trainer.get_trainset_outputs()\n",
    "cluster = Cluster(\n",
    "    Z=logits,\n",
    "    class_labels=trainset.labels,\n",
    "    cluster_alg=ClusterAlg.KMEANS,\n",
    "    num_clusters=2,\n",
    "    device=DEVICE,\n",
    "    verbose=True\n",
    ")\n",
    "# partition train dataset into clusters using unsupervised\n",
    "# NOTE: ran into same mp num_workers DataLoader issue, set num_workers=0 within get_trainset_outputs\n",
    "\n",
    "group_partition = cluster.infer_groups()"
   ]
  },
  {
   "cell_type": "code",
   "execution_count": 15,
   "metadata": {},
   "outputs": [
    {
     "name": "stdout",
     "output_type": "stream",
     "text": [
      "(0, 0) 10082\n",
      "(0, 1) 51\n",
      "(1, 0) 9623\n",
      "(1, 1) 49\n",
      "(2, 0) 8965\n",
      "(2, 1) 46\n",
      "(3, 0) 9698\n",
      "(3, 1) 49\n",
      "(4, 0) 9416\n",
      "(4, 1) 25\n"
     ]
    }
   ],
   "source": [
    "for key in sorted(group_partition.keys()):\n",
    "    print(key, len(group_partition[key])) # print inferred groups and their sizes"
   ]
  },
  {
   "cell_type": "code",
   "execution_count": 16,
   "metadata": {},
   "outputs": [
    {
     "name": "stderr",
     "output_type": "stream",
     "text": [
      "Epoch 0: 100%|██████████| 751/751 [00:06<00:00, 122.10batch/s, accuracy=75.0%, loss=1.36]   \n",
      "Epoch 1: 100%|██████████| 751/751 [00:06<00:00, 122.64batch/s, accuracy=75.0%, loss=1.09]   \n",
      "Epoch 2: 100%|██████████| 751/751 [00:05<00:00, 128.21batch/s, accuracy=75.0%, loss=0.704]   \n",
      "Epoch 3: 100%|██████████| 751/751 [00:06<00:00, 122.31batch/s, accuracy=100.0%, loss=0.0244] \n"
     ]
    }
   ],
   "source": [
    "\n",
    "# --------------------------------------\n",
    "# STEP 3: retrain lenet using group balancing\n",
    "# --------------------------------------\n",
    "\n",
    "from spuco.robust_train import GroupBalanceBatchERM\n",
    "\n",
    "balanced_model = model_factory(\"lenet\", trainset[0][0].shape, trainset.num_classes).to(DEVICE)\n",
    "\n",
    "group_balance_erm = GroupBalanceBatchERM(\n",
    "    model=model, # could also perform another epoch(s) on previously ERM'd model\n",
    "    num_epochs=4,\n",
    "    trainset=trainset,\n",
    "    group_partition=group_partition,\n",
    "    batch_size=64,\n",
    "    optimizer=SGD(balanced_model.parameters(), lr=1e-3, weight_decay=5e-4, momentum=0.9, nesterov=True),\n",
    "    device=DEVICE,\n",
    "    verbose=True\n",
    ")\n",
    "\n",
    "group_balance_erm.train()"
   ]
  },
  {
   "cell_type": "code",
   "execution_count": 19,
   "metadata": {},
   "outputs": [
    {
     "name": "stderr",
     "output_type": "stream",
     "text": [
      "Evaluating group-wise accuracy:   0%|          | 0/25 [00:00<?, ?it/s]"
     ]
    },
    {
     "name": "stderr",
     "output_type": "stream",
     "text": [
      "Evaluating group-wise accuracy:  16%|█▌        | 4/25 [00:00<00:01, 15.16it/s]"
     ]
    },
    {
     "name": "stdout",
     "output_type": "stream",
     "text": [
      "Group (0, 0) Accuracy: 96.6903073286052\n",
      "Group (0, 1) Accuracy: 57.4468085106383\n",
      "Group (0, 2) Accuracy: 46.808510638297875\n",
      "Group (0, 3) Accuracy: 55.082742316784866\n",
      "Group (0, 4) Accuracy: 71.63120567375887\n",
      "Group (1, 0) Accuracy: 74.32762836185819\n"
     ]
    },
    {
     "name": "stderr",
     "output_type": "stream",
     "text": [
      "Evaluating group-wise accuracy:  44%|████▍     | 11/25 [00:00<00:00, 26.34it/s]"
     ]
    },
    {
     "name": "stdout",
     "output_type": "stream",
     "text": [
      "Group (1, 1) Accuracy: 89.24205378973105\n",
      "Group (1, 2) Accuracy: 72.30392156862744\n",
      "Group (1, 3) Accuracy: 60.294117647058826\n",
      "Group (1, 4) Accuracy: 62.5\n",
      "Group (2, 0) Accuracy: 67.2\n",
      "Group (2, 1) Accuracy: 41.86666666666667\n",
      "Group (2, 2) Accuracy: 89.06666666666666\n",
      "Group (2, 3) Accuracy: 35.46666666666667\n",
      "Group (2, 4) Accuracy: 41.97860962566845\n"
     ]
    },
    {
     "name": "stderr",
     "output_type": "stream",
     "text": [
      "Evaluating group-wise accuracy:  80%|████████  | 20/25 [00:00<00:00, 34.42it/s]"
     ]
    },
    {
     "name": "stdout",
     "output_type": "stream",
     "text": [
      "Group (3, 0) Accuracy: 75.37688442211055\n",
      "Group (3, 1) Accuracy: 70.27707808564232\n",
      "Group (3, 2) Accuracy: 74.81108312342569\n",
      "Group (3, 3) Accuracy: 97.48110831234257\n",
      "Group (3, 4) Accuracy: 74.05541561712846\n",
      "Group (4, 0) Accuracy: 27.455919395465994\n",
      "Group (4, 1) Accuracy: 80.85642317380352\n",
      "Group (4, 2) Accuracy: 71.78841309823677\n",
      "Group (4, 3) Accuracy: 8.585858585858587\n"
     ]
    },
    {
     "name": "stderr",
     "output_type": "stream",
     "text": [
      "Evaluating group-wise accuracy: 100%|██████████| 25/25 [00:00<00:00, 30.30it/s]"
     ]
    },
    {
     "name": "stdout",
     "output_type": "stream",
     "text": [
      "Group (4, 4) Accuracy: 97.22222222222223\n"
     ]
    },
    {
     "name": "stderr",
     "output_type": "stream",
     "text": [
      "\n"
     ]
    },
    {
     "data": {
      "text/plain": [
       "{(0, 0): 96.6903073286052,\n",
       " (0, 1): 57.4468085106383,\n",
       " (0, 2): 46.808510638297875,\n",
       " (0, 3): 55.082742316784866,\n",
       " (0, 4): 71.63120567375887,\n",
       " (1, 0): 74.32762836185819,\n",
       " (1, 1): 89.24205378973105,\n",
       " (1, 2): 72.30392156862744,\n",
       " (1, 3): 60.294117647058826,\n",
       " (1, 4): 62.5,\n",
       " (2, 0): 67.2,\n",
       " (2, 1): 41.86666666666667,\n",
       " (2, 2): 89.06666666666666,\n",
       " (2, 3): 35.46666666666667,\n",
       " (2, 4): 41.97860962566845,\n",
       " (3, 0): 75.37688442211055,\n",
       " (3, 1): 70.27707808564232,\n",
       " (3, 2): 74.81108312342569,\n",
       " (3, 3): 97.48110831234257,\n",
       " (3, 4): 74.05541561712846,\n",
       " (4, 0): 27.455919395465994,\n",
       " (4, 1): 80.85642317380352,\n",
       " (4, 2): 71.78841309823677,\n",
       " (4, 3): 8.585858585858587,\n",
       " (4, 4): 97.22222222222223}"
      ]
     },
     "execution_count": 19,
     "metadata": {},
     "output_type": "execute_result"
    }
   ],
   "source": [
    "# evaluate group balanced model\n",
    "balanced_evaluator = Evaluator(\n",
    "    testset=testset,\n",
    "    group_partition=testset.group_partition,\n",
    "    group_weights=trainset.group_weights,\n",
    "    batch_size=64,\n",
    "    model=balanced_model,\n",
    "    device=DEVICE,\n",
    "    verbose=True\n",
    ")\n",
    "\n",
    "balanced_evaluator.evaluate()"
   ]
  },
  {
   "cell_type": "code",
   "execution_count": 20,
   "metadata": {},
   "outputs": [
    {
     "data": {
      "text/plain": [
       "((4, 3), 8.585858585858587)"
      ]
     },
     "execution_count": 20,
     "metadata": {},
     "output_type": "execute_result"
    }
   ],
   "source": [
    "balanced_evaluator.worst_group_accuracy # worst group accuracy has increased"
   ]
  },
  {
   "cell_type": "code",
   "execution_count": 21,
   "metadata": {},
   "outputs": [
    {
     "data": {
      "text/plain": [
       "93.8467735913562"
      ]
     },
     "execution_count": 21,
     "metadata": {},
     "output_type": "execute_result"
    }
   ],
   "source": [
    "balanced_evaluator.average_accuracy # average accuracy has dropped slightly"
   ]
  }
 ],
 "metadata": {
  "kernelspec": {
   "display_name": "venv",
   "language": "python",
   "name": "python3"
  },
  "language_info": {
   "codemirror_mode": {
    "name": "ipython",
    "version": 3
   },
   "file_extension": ".py",
   "mimetype": "text/x-python",
   "name": "python",
   "nbconvert_exporter": "python",
   "pygments_lexer": "ipython3",
   "version": "3.10.13"
  },
  "orig_nbformat": 4
 },
 "nbformat": 4,
 "nbformat_minor": 2
}
